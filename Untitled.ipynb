{
 "cells": [
  {
   "cell_type": "code",
   "execution_count": 1,
   "metadata": {},
   "outputs": [],
   "source": [
    "import tensorflow as tf\n",
    "import numpy as np\n",
    "from sklearn.preprocessing import MinMaxScaler"
   ]
  },
  {
   "cell_type": "code",
   "execution_count": 2,
   "metadata": {},
   "outputs": [],
   "source": [
    "x_train = np.load(\"data_train.npy\").astype(np.float32)\n",
    "y_train = np.load(\"labels_train.npy\").astype(np.uint8)\n",
    "\n",
    "y_train[y_train == 10] = 2\n",
    "y_train[y_train == 5] = 1\n",
    "y_train[y_train == 0] = 0\n",
    "\n",
    "y_train = tf.keras.utils.to_categorical(y_train)\n",
    "\n",
    "x_test = np.load(\"data_test.npy\").astype(np.float32)\n",
    "y_test = np.load(\"labels_test.npy\").astype(np.uint8)\n",
    "\n",
    "y_test[y_test == 10] = 2\n",
    "y_test[y_test == 5] = 1\n",
    "y_test[y_test == 0] = 0\n",
    "\n",
    "y_test = tf.keras.utils.to_categorical(y_test)"
   ]
  },
  {
   "cell_type": "code",
   "execution_count": 3,
   "metadata": {},
   "outputs": [],
   "source": [
    "def scale_data(data, scaler_dict=None):\n",
    "    if scaler_dict is None:\n",
    "        # assuming passing training data, fit supplied training data and return both scaled data AND scalers\n",
    "        scaler_dict = {}\n",
    "        for feature in range(data.shape[-1]):\n",
    "            scaler_dict[\"scaler_feature:{}\".format(feature)] = MinMaxScaler(feature_range=(0,1))\n",
    "            data[:, :, feature] = scaler_dict[\"scaler_feature:{}\".format(feature)].fit_transform(data[:, :, feature])\n",
    "        return data, scaler_dict\n",
    "    else:\n",
    "        # assuming all other data is passed, simply scale with supplied scaler_dict and return data\n",
    "        assert isinstance(scaler_dict, dict)\n",
    "        \n",
    "        for feature in range(data.shape[-1]):\n",
    "            data[:, :, feature] = scaler_dict[\"scaler_feature:{}\".format(feature)].transform(data[:, :, feature])\n",
    "        return data, scaler_dict\n",
    "        "
   ]
  },
  {
   "cell_type": "code",
   "execution_count": 4,
   "metadata": {},
   "outputs": [],
   "source": [
    "x_train, scaler_dict = scale_data(x_train, scaler_dict=None)\n",
    "x_test, _, = scale_data(x_test, scaler_dict=scaler_dict)"
   ]
  },
  {
   "cell_type": "code",
   "execution_count": 5,
   "metadata": {},
   "outputs": [
    {
     "data": {
      "text/plain": [
       "array([0.17831445, 0.3530173 , 0.06317574, 0.45268816], dtype=float32)"
      ]
     },
     "execution_count": 5,
     "metadata": {},
     "output_type": "execute_result"
    }
   ],
   "source": [
    "x_train[0][0]"
   ]
  },
  {
   "cell_type": "code",
   "execution_count": 7,
   "metadata": {},
   "outputs": [
    {
     "name": "stdout",
     "output_type": "stream",
     "text": [
      "Model: \"sequential_1\"\n",
      "_________________________________________________________________\n",
      "Layer (type)                 Output Shape              Param #   \n",
      "=================================================================\n",
      "dense_4 (Dense)              (None, 30, 32)            160       \n",
      "_________________________________________________________________\n",
      "lstm_4 (LSTM)                (None, 30, 32)            8320      \n",
      "_________________________________________________________________\n",
      "time_distributed_3 (TimeDist (None, 30, 64)            2112      \n",
      "_________________________________________________________________\n",
      "lstm_5 (LSTM)                (None, 30, 32)            12416     \n",
      "_________________________________________________________________\n",
      "time_distributed_4 (TimeDist (None, 30, 64)            2112      \n",
      "_________________________________________________________________\n",
      "lstm_6 (LSTM)                (None, 30, 32)            12416     \n",
      "_________________________________________________________________\n",
      "time_distributed_5 (TimeDist (None, 30, 64)            2112      \n",
      "_________________________________________________________________\n",
      "lstm_7 (LSTM)                (None, 32)                12416     \n",
      "_________________________________________________________________\n",
      "dense_8 (Dense)              (None, 16)                528       \n",
      "_________________________________________________________________\n",
      "dropout (Dropout)            (None, 16)                0         \n",
      "_________________________________________________________________\n",
      "dense_9 (Dense)              (None, 16)                272       \n",
      "_________________________________________________________________\n",
      "dense_10 (Dense)             (None, 16)                272       \n",
      "_________________________________________________________________\n",
      "dense_11 (Dense)             (None, 8)                 136       \n",
      "_________________________________________________________________\n",
      "dense_12 (Dense)             (None, 3)                 27        \n",
      "=================================================================\n",
      "Total params: 53,299\n",
      "Trainable params: 53,299\n",
      "Non-trainable params: 0\n",
      "_________________________________________________________________\n"
     ]
    }
   ],
   "source": [
    "model = tf.keras.models.Sequential()\n",
    "\n",
    "model.add(tf.keras.layers.Dense(32, input_shape=(30,4)))\n",
    "model.add(tf.keras.layers.LSTM(32, input_shape=(30,32), recurrent_dropout=0.4, dropout=0.4, return_sequences=True))\n",
    "model.add(tf.keras.layers.TimeDistributed(tf.keras.layers.Dense(64, activation='relu')))\n",
    "\n",
    "model.add(tf.keras.layers.LSTM(32, input_shape=(30,32), recurrent_dropout=0.2, dropout=0.2, return_sequences=True))\n",
    "model.add(tf.keras.layers.TimeDistributed(tf.keras.layers.Dense(64, activation='relu')))\n",
    "\n",
    "model.add(tf.keras.layers.LSTM(32, input_shape=(30,32), return_sequences=True))\n",
    "model.add(tf.keras.layers.TimeDistributed(tf.keras.layers.Dense(64, activation='relu')))\n",
    "\n",
    "model.add(tf.keras.layers.LSTM(32))\n",
    "model.add(tf.keras.layers.Dense(16, activation='relu'))\n",
    "model.add(tf.keras.layers.Dropout(0.5))\n",
    "model.add(tf.keras.layers.Dense(16, activation='relu'))\n",
    "model.add(tf.keras.layers.Dense(16, activation='relu'))\n",
    "model.add(tf.keras.layers.Dense(8, activation='relu'))\n",
    "model.add(tf.keras.layers.Dense(3, activation='softmax'))\n",
    "model.compile(loss='categorical_crossentropy', optimizer=tf.keras.optimizers.RMSprop(lr=0.001), metrics=['acc'])\n",
    "model.summary()"
   ]
  },
  {
   "cell_type": "code",
   "execution_count": 8,
   "metadata": {},
   "outputs": [
    {
     "name": "stdout",
     "output_type": "stream",
     "text": [
      "Train on 7379 samples, validate on 1269 samples\n",
      "Epoch 1/5\n",
      "7379/7379 [==============================] - 13s 2ms/sample - loss: 1.0552 - acc: 0.4029 - val_loss: 1.0436 - val_acc: 0.3570\n",
      "Epoch 2/5\n",
      "7379/7379 [==============================] - 7s 911us/sample - loss: 1.0225 - acc: 0.4354 - val_loss: 1.0159 - val_acc: 0.2687\n",
      "Epoch 3/5\n",
      "7379/7379 [==============================] - 7s 904us/sample - loss: 0.9785 - acc: 0.4662 - val_loss: 1.0244 - val_acc: 0.2482\n",
      "Epoch 4/5\n",
      "7379/7379 [==============================] - 7s 910us/sample - loss: 0.9478 - acc: 0.4927 - val_loss: 1.0087 - val_acc: 0.2805\n",
      "Epoch 5/5\n",
      "7379/7379 [==============================] - 7s 910us/sample - loss: 0.9224 - acc: 0.5071 - val_loss: 0.9297 - val_acc: 0.4161\n"
     ]
    },
    {
     "data": {
      "text/plain": [
       "<tensorflow.python.keras.callbacks.History at 0x27f11cb95c0>"
      ]
     },
     "execution_count": 8,
     "metadata": {},
     "output_type": "execute_result"
    }
   ],
   "source": [
    "model.fit(x_train, y_train, epochs=5, batch_size=64, validation_data=(x_test, y_test))"
   ]
  },
  {
   "cell_type": "code",
   "execution_count": 14,
   "metadata": {},
   "outputs": [
    {
     "name": "stdout",
     "output_type": "stream",
     "text": [
      "dense_14\n",
      "\tInput:  (64, 30, 4)\n",
      "\tOutput:  (64, 30, 32)\n",
      "lstm_9\n",
      "\tInput:  (64, 30, 32)\n",
      "\tOutput:  (64, 30, 32)\n",
      "time_distributed_5\n",
      "\tInput:  (64, 30, 32)\n",
      "\tOutput:  (64, 30, 64)\n",
      "lstm_10\n",
      "\tInput:  (64, 30, 64)\n",
      "\tOutput:  (64, 30, 32)\n",
      "time_distributed_6\n",
      "\tInput:  (64, 30, 32)\n",
      "\tOutput:  (64, 30, 64)\n",
      "lstm_11\n",
      "\tInput:  (64, 30, 64)\n",
      "\tOutput:  (64, 32)\n",
      "dense_17\n",
      "\tInput:  (64, 32)\n",
      "\tOutput:  (64, 3)\n"
     ]
    }
   ],
   "source": [
    "x = np.random.randn(64,30,4).astype(np.float32)\n",
    "for layer in model.layers:\n",
    "    print(layer.name)\n",
    "    print(\"\\tInput: \", x.shape)\n",
    "    x = layer(x)\n",
    "    print(\"\\tOutput: \", x.shape)"
   ]
  },
  {
   "cell_type": "code",
   "execution_count": 30,
   "metadata": {},
   "outputs": [],
   "source": []
  },
  {
   "cell_type": "code",
   "execution_count": 76,
   "metadata": {},
   "outputs": [
    {
     "name": "stdout",
     "output_type": "stream",
     "text": [
      "0.54\n"
     ]
    }
   ],
   "source": [
    "pred = model.predict(x_train)\n",
    "\n",
    "classes = [0,5,10]\n",
    "max_p = np.argmax(pred, axis=1)\n",
    "max_a = np.argmax(y_train, axis=1)\n",
    "\n",
    "total = 0\n",
    "right = 0\n",
    "for i in range(100):\n",
    "    i = np.random.randint(0, len(pred))\n",
    "    p = max_p[i]\n",
    "    a = max_a[i]\n",
    "    if classes[p] == classes[a]:\n",
    "        right += 1\n",
    "    total += 1\n",
    "    #print(\"Predicted: {}\\tActual: {}\".format(classes[p], classes[a]))\n",
    "print(right/total)"
   ]
  },
  {
   "cell_type": "code",
   "execution_count": null,
   "metadata": {},
   "outputs": [],
   "source": []
  }
 ],
 "metadata": {
  "kernelspec": {
   "display_name": "Python 3",
   "language": "python",
   "name": "python3"
  },
  "language_info": {
   "codemirror_mode": {
    "name": "ipython",
    "version": 3
   },
   "file_extension": ".py",
   "mimetype": "text/x-python",
   "name": "python",
   "nbconvert_exporter": "python",
   "pygments_lexer": "ipython3",
   "version": "3.6.9"
  }
 },
 "nbformat": 4,
 "nbformat_minor": 2
}
