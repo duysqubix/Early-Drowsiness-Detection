{
 "cells": [
  {
   "cell_type": "code",
   "execution_count": 30,
   "metadata": {
    "pycharm": {
     "is_executing": false,
     "name": "#%%\n"
    }
   },
   "outputs": [],
   "source": [
    "\n",
    "import tensorflow as tf\n",
    "import matplotlib.pyplot as plt\n",
    "from sklearn.model_selection import train_test_split\n",
    "import numpy as np\n",
    "import numba\n",
    "# %load_ext line_profiler"
   ]
  },
  {
   "cell_type": "code",
   "execution_count": 35,
   "metadata": {
    "pycharm": {
     "name": "#%%\n"
    }
   },
   "outputs": [],
   "source": [
    "# @numba.jit\n",
    "def blink_detect():\n",
    "    x = np.arange(0, 14)\n",
    "    y = np.array([\n",
    "    1, 0.9, .5, 0.0, 0.1, 0.8, .7, .8, .9, .3, .2, .4, 1, .8\n",
    "    ])\n",
    "    \n",
    "    epsilon = 0.01\n",
    "    threshold = 0.4 * y.min() + 0.6*y.max()\n",
    "    n = len(y)\n",
    "\n",
    "    dy_dx = y[1:]-y[:-1]\n",
    "    i = np.where(dy_dx==0)[0]\n",
    "    if len(i) != 0:\n",
    "        for k in i:\n",
    "            if k==0:\n",
    "                dy_dx[0] -= epsilon\n",
    "            else:\n",
    "                dy_dx[k] = epsilon * dy_dx[k-1]\n",
    "    m = n-1\n",
    "    c = dy_dx[1:m]*dy_dx[:m-1]\n",
    "    x = np.where(c < 0)[0] + 1\n",
    "\n",
    "    xtrema_ears = y[x]\n",
    "    t = np.ones_like(x)\n",
    "    t[xtrema_ears < threshold] =- 1\n",
    "\n",
    "\n",
    "    t = np.concatenate(([1], t, [1]))\n",
    "    xtrema_ears = np.concatenate(([y[0]],xtrema_ears,[y[n-1]]))\n",
    "    xtrema_idx = np.concatenate(([0], x, [n-1]))\n",
    "\n",
    "    z = t[1:]*t[:-1]\n",
    "    z_idx = np.where(z < 0)[0]\n",
    "    num_of_blinks = len(z_idx) // 2\n",
    "\n",
    "    selected_ear = xtrema_ears[z_idx], xtrema_ears[z_idx+1]\n",
    "    selected_idx = xtrema_idx[z_idx], xtrema_idx[z_idx+1]\n",
    "#     print(z_idx)\n",
    "#     print(selected_ear)\n",
    "# #     print(selected_idx)\n",
    "#     plt.plot(y)\n",
    "#     for i, l in enumerate(selected_ear[0]):\n",
    "#         plt.plot(selected_idx[0][i], l, 'go', c='r', alpha=0.3)\n",
    "        \n",
    "#     for i, l in enumerate(selected_ear[1]):\n",
    "#         plt.plot(selected_idx[1][i], l, 'go', c='g', alpha=0.3)\n",
    "\n",
    "\n",
    "\n",
    "# before optimization: 38.9 µs ± 538 ns per loop (mean ± std. dev. of 7 runs, 10000 loops each)\n",
    "# %timeit blink_detect()"
   ]
  },
  {
   "cell_type": "code",
   "execution_count": 36,
   "metadata": {},
   "outputs": [
    {
     "name": "stdout",
     "output_type": "stream",
     "text": [
      "35.2 µs ± 74.1 ns per loop (mean ± std. dev. of 7 runs, 10000 loops each)\n"
     ]
    }
   ],
   "source": [
    "%timeit blink_detect()"
   ]
  },
  {
   "cell_type": "code",
   "execution_count": 22,
   "metadata": {},
   "outputs": [],
   "source": [
    "def Ultimate_Blink_Check(values):\n",
    "        #Given the input \"values\", retrieve blinks and their quantities\n",
    "        y = np.array([\n",
    "                1, 0.9, .5, 0.0, 0.1, 0.8, .7, .8, .9, .3, .2, .4, 1, .8\n",
    "                ])\n",
    "        retrieved_blinks=[]\n",
    "        MISSED_BLINKS=False\n",
    "        values=y\n",
    "        #print(\"Values\", values.shape)\n",
    "        THRESHOLD=0.4*np.min(values)+0.6*np.max(values)   # this is to split extrema in highs and lows\n",
    "        #print(THRESHOLD)\n",
    "        N=len(values)\n",
    "        Derivative=values[1:N]-values[0:N-1]    #[-1 1] is used for derivative\n",
    "        i=np.where(Derivative==0)\n",
    "        if len(i[0])!=0:\n",
    "            for k in i[0]:\n",
    "                if k==0:\n",
    "                    Derivative[0]=-EPSILON\n",
    "                else:\n",
    "                    Derivative[k]=EPSILON*Derivative[k-1]\n",
    "        M=N-1    #len(Derivative)\n",
    "        ZeroCrossing=Derivative[1:M]*Derivative[0:M-1]\n",
    "        #print(\"ZeroCrossing\", ZeroCrossing.shape)\n",
    "        x = np.where(ZeroCrossing < 0)\n",
    "       #print(x[0])\n",
    "        xtrema_index=x[0]+1\n",
    "        #print(xtrema_index)\n",
    "        XtremaEAR=values[xtrema_index]\n",
    "        #print(XtremaEAR.shape, XtremaEAR)\n",
    "        Updown=np.ones(len(xtrema_index))        # 1 means high, -1 means low for each extremum\n",
    "        #print(XtremaEAR)\n",
    "        #print(XtremaEAR<THRESHOLD)\n",
    "        Updown[XtremaEAR<THRESHOLD]=-1           #this says if the extremum occurs in the upper/lower half of signal\n",
    "        #concatenate the beginning and end of the signal as positive high extrema\n",
    "        Updown=np.concatenate(([1],Updown,[1]))\n",
    "        XtremaEAR=np.concatenate(([values[0]],XtremaEAR,[values[N-1]]))\n",
    "        xtrema_index = np.concatenate(([0], xtrema_index,[N - 1]))\n",
    "        ##################################################################\n",
    "\n",
    "        Updown_XeroCrossing = Updown[1:len(Updown)] * Updown[0:len(Updown) - 1]\n",
    "        jump_index = np.where(Updown_XeroCrossing < 0)\n",
    "        #print(jump_index)\n",
    "        numberOfblinks = int(len(jump_index[0]) / 2)\n",
    "        selected_EAR_First = XtremaEAR[jump_index[0]]\n",
    "        selected_EAR_Sec = XtremaEAR[jump_index[0] + 1]\n",
    "        #print(selected_EAR_First, selected_EAR_Sec)\n",
    "        selected_index_First = xtrema_index[jump_index[0]]\n",
    "        selected_index_Sec = xtrema_index[jump_index[0] + 1]\n",
    "        if numberOfblinks>1:\n",
    "            MISSED_BLINKS=True\n",
    "        if numberOfblinks ==0:\n",
    "            pass\n",
    "#             print(Updown,Last_Blink.duration)\n",
    "#             print(values)\n",
    "#             print(Derivative)\n",
    "        for j in range(numberOfblinks):\n",
    "            pass\n",
    "#             print(j)\n",
    "#             detected_blink=Blink()\n",
    "#             detected_blink.start=selected_index_First[2*j]\n",
    "#             detected_blink.peak = selected_index_Sec[2*j]\n",
    "#             detected_blink.end = selected_index_Sec[2*j + 1]\n",
    "\n",
    "#             detected_blink.startEAR=selected_EAR_First[2*j]\n",
    "#             detected_blink.peakEAR = selected_EAR_Sec[2*j]\n",
    "#             detected_blink.endEAR = selected_EAR_Sec[2*j + 1]\n",
    "\n",
    "#             detected_blink.duration=detected_blink.end-detected_blink.start+1\n",
    "#             detected_blink.amplitude=0.5*(detected_blink.startEAR-detected_blink.peakEAR)+0.5*(detected_blink.endEAR-detected_blink.peakEAR)\n",
    "#             detected_blink.velocity=(detected_blink.endEAR-selected_EAR_First[2*j+1])/(detected_blink.end-selected_index_First[2*j+1]+1) #eye opening ave velocity\n",
    "#             retrieved_blinks.append(detected_blink)\n",
    "\n",
    "\n",
    "\n",
    "        return MISSED_BLINKS,retrieved_blinks"
   ]
  },
  {
   "cell_type": "code",
   "execution_count": 46,
   "metadata": {},
   "outputs": [
    {
     "name": "stdout",
     "output_type": "stream",
     "text": [
      "22.7 µs ± 569 ns per loop (mean ± std. dev. of 7 runs, 10000 loops each)\n"
     ]
    },
    {
     "data": {
      "text/plain": [
       "[1.6666666666666667,\n",
       " 3.3333333333333335,\n",
       " 5.0,\n",
       " 6.666666666666667,\n",
       " 8.333333333333334]"
      ]
     },
     "execution_count": 46,
     "metadata": {},
     "output_type": "execute_result"
    }
   ],
   "source": [
    "def linear_interp(start,end,N):\n",
    "    m=(end-start)/(N+1)\n",
    "    x=np.linspace(1,N,N)\n",
    "    y=m*(x-0)+start\n",
    "    return y\n",
    "\n",
    "\n",
    "%timeit linear_interp(0, 10, 5)\n",
    "lin"
   ]
  },
  {
   "cell_type": "code",
   "execution_count": 41,
   "metadata": {},
   "outputs": [
    {
     "data": {
      "text/plain": [
       "[<matplotlib.lines.Line2D at 0x1f952892898>]"
      ]
     },
     "execution_count": 41,
     "metadata": {},
     "output_type": "execute_result"
    },
    {
     "data": {
      "image/png": "[encoded data removed]",
      "text/plain": [
       "<Figure size 432x288 with 1 Axes>"
      ]
     },
     "metadata": {
      "needs_background": "light"
     },
     "output_type": "display_data"
    }
   ],
   "source": [
    "x = np.linspace(0, 2*np.pi, 10)\n",
    "y = \n",
    "xvals = np.linspace(0, 2*np.pi, 50)\n",
    "yinterp = np.interp(xvals, x, y)\n",
    "plt.plot(x, y, 'o')\n",
    "\n",
    "plt.plot(xvals, yinterp, '-x')"
   ]
  },
  {
   "cell_type": "code",
   "execution_count": null,
   "metadata": {},
   "outputs": [],
   "source": []
  }
 ],
 "metadata": {
  "kernelspec": {
   "display_name": "Python 3",
   "language": "python",
   "name": "python3"
  },
  "language_info": {
   "codemirror_mode": {
    "name": "ipython",
    "version": 3
   },
   "file_extension": ".py",
   "mimetype": "text/x-python",
   "name": "python",
   "nbconvert_exporter": "python",
   "pygments_lexer": "ipython3",
   "version": "3.6.9"
  },
  "pycharm": {
   "stem_cell": {
    "cell_type": "raw",
    "metadata": {
     "collapsed": false
    },
    "source": []
   }
  }
 },
 "nbformat": 4,
 "nbformat_minor": 1
}
